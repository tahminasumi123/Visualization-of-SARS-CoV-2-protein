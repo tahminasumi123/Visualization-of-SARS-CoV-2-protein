{
 "cells": [
  {
   "cell_type": "code",
   "execution_count": 6,
   "id": "d7511a15",
   "metadata": {},
   "outputs": [],
   "source": [
    "#patient id protein\n",
    "# id of protein we are searching for (cp from day 6 lecture)\n",
    "seq_id = \"pdb|6YYT|A\""
   ]
  },
  {
   "cell_type": "code",
   "execution_count": 7,
   "id": "9a54f744",
   "metadata": {},
   "outputs": [],
   "source": [
    "id = seq_id.split(\"|\")[1] # extract ID so we can download the PDB file from Protein Data Bank database. "
   ]
  },
  {
   "cell_type": "code",
   "execution_count": 8,
   "id": "c9b40bd4",
   "metadata": {},
   "outputs": [
    {
     "data": {
      "text/plain": [
       "'6YYT'"
      ]
     },
     "execution_count": 8,
     "metadata": {},
     "output_type": "execute_result"
    }
   ],
   "source": [
    "id"
   ]
  },
  {
   "cell_type": "markdown",
   "id": "3764b701",
   "metadata": {},
   "source": [
    "The Protein Data Bank (pdb) file format is a textual file format describing the three-dimensional structures of molecules held in the Protein Data Bank.\n",
    "\n",
    "Download pdb file with wget command:"
   ]
  },
  {
   "cell_type": "code",
   "execution_count": 10,
   "id": "a393b065",
   "metadata": {},
   "outputs": [
    {
     "name": "stdout",
     "output_type": "stream",
     "text": [
      "File downloaded successfully.\n"
     ]
    }
   ],
   "source": [
    "import urllib.request\n",
    "\n",
    "url = \"https://files.rcsb.org/download/6YYT.pdb\"\n",
    "urllib.request.urlretrieve(url, \"6YYT.pdb\")\n",
    "\n",
    "print(\"File downloaded successfully.\")"
   ]
  },
  {
   "cell_type": "code",
   "execution_count": 11,
   "id": "d06f1e31",
   "metadata": {},
   "outputs": [
    {
     "name": "stderr",
     "output_type": "stream",
     "text": [
      "'wget' is not recognized as an internal or external command,\n",
      "operable program or batch file.\n"
     ]
    }
   ],
   "source": [
    "!wget https://files.rcsb.org/download/6YYT.pdb"
   ]
  },
  {
   "cell_type": "markdown",
   "id": "5f6fa518",
   "metadata": {},
   "source": [
    "Reading PDB file with Biopython\n",
    "Bio.PDB is a Biopython module that focuses on working with crystal structures of biological macromolecules. Among other things, Bio.PDB includes a PDBParser class that produces a Structure object, which can be used to access the atomic data in the file in a convenient manner.\n",
    "\n",
    "More about it in some later video :)"
   ]
  },
  {
   "cell_type": "code",
   "execution_count": 12,
   "id": "d54c1d04",
   "metadata": {},
   "outputs": [],
   "source": [
    "#parser thke molecule gular structure bujha jay\n",
    "from Bio.PDB import PDBParser # PDBParser - parser for pdb files"
   ]
  },
  {
   "cell_type": "code",
   "execution_count": 13,
   "id": "621ca022",
   "metadata": {},
   "outputs": [
    {
     "name": "stderr",
     "output_type": "stream",
     "text": [
      "C:\\Users\\Apollo Gadget\\anaconda3\\lib\\site-packages\\Bio\\PDB\\StructureBuilder.py:89: PDBConstructionWarning: WARNING: Chain A is discontinuous at line 12059.\n",
      "  warnings.warn(\n"
     ]
    },
    {
     "data": {
      "text/plain": [
       "<Structure id=6YYT>"
      ]
     },
     "execution_count": 13,
     "metadata": {},
     "output_type": "execute_result"
    }
   ],
   "source": [
    "parser = PDBParser()\n",
    "structure = parser.get_structure('6YYT', '6YYT.pdb') # After parsing, we can fetch the protein structure using get_structure .\n",
    "structure"
   ]
  },
  {
   "cell_type": "markdown",
   "id": "17ae3713",
   "metadata": {},
   "source": [
    "Identify the number of chains\n",
    "To identify how many chains this 6YYT covid viral protein has, we use chain.id function which gives us the list of the chains that are present."
   ]
  },
  {
   "cell_type": "code",
   "execution_count": 14,
   "id": "af77ab02",
   "metadata": {},
   "outputs": [
    {
     "name": "stdout",
     "output_type": "stream",
     "text": [
      "chain ID: A\n",
      "chain ID: B\n",
      "chain ID: C\n",
      "chain ID: D\n",
      "chain ID: P\n",
      "chain ID: Q\n",
      "chain ID: T\n",
      "chain ID: U\n"
     ]
    }
   ],
   "source": [
    "#alphabet die 8 ta chain pawa gese\n",
    "for chain in structure[0]:\n",
    "    print(f'chain ID: {chain.id}')"
   ]
  },
  {
   "cell_type": "markdown",
   "id": "ffdfe8a8",
   "metadata": {},
   "source": [
    "We see that this viral SARS-CoV-2 polymerase has 8 chains or 8 accessory proteins, represented with single alphabet.\n",
    "\n",
    "It is finally time for us We will use nglview which is an IPython/Jupyter widget to interactively view molecular structures and trajectories, to create an interactive visualization of 6YYT SARS-CoV-2 protein."
   ]
  },
  {
   "cell_type": "code",
   "execution_count": 19,
   "id": "85a4b870",
   "metadata": {},
   "outputs": [
    {
     "name": "stdout",
     "output_type": "stream",
     "text": [
      "Collecting nglview\n",
      "  Downloading nglview-3.1.1.tar.gz (5.5 MB)\n",
      "     ---------------------------------------- 5.5/5.5 MB 361.1 kB/s eta 0:00:00\n",
      "  Installing build dependencies: started\n",
      "  Installing build dependencies: finished with status 'done'\n",
      "  Getting requirements to build wheel: started\n",
      "  Getting requirements to build wheel: finished with status 'done'\n",
      "  Preparing metadata (pyproject.toml): started\n",
      "  Preparing metadata (pyproject.toml): finished with status 'done'\n",
      "Collecting notebook>=7\n",
      "  Downloading notebook-7.0.7-py3-none-any.whl (4.0 MB)\n",
      "     ---------------------------------------- 4.0/4.0 MB 420.7 kB/s eta 0:00:00\n",
      "Requirement already satisfied: numpy in c:\\users\\apollo gadget\\anaconda3\\lib\\site-packages (from nglview) (1.23.5)\n",
      "Requirement already satisfied: jupyterlab-widgets in c:\\users\\apollo gadget\\anaconda3\\lib\\site-packages (from nglview) (1.0.0)\n",
      "Collecting ipywidgets>=8\n",
      "  Downloading ipywidgets-8.1.1-py3-none-any.whl (139 kB)\n",
      "     ------------------------------------ 139.4/139.4 kB 916.1 kB/s eta 0:00:00\n",
      "Collecting jupyterlab-widgets\n",
      "  Downloading jupyterlab_widgets-3.0.9-py3-none-any.whl (214 kB)\n",
      "     -------------------------------------- 214.9/214.9 kB 1.2 MB/s eta 0:00:00\n",
      "Requirement already satisfied: traitlets>=4.3.1 in c:\\users\\apollo gadget\\anaconda3\\lib\\site-packages (from ipywidgets>=8->nglview) (5.7.1)\n",
      "Collecting widgetsnbextension~=4.0.9\n",
      "  Downloading widgetsnbextension-4.0.9-py3-none-any.whl (2.3 MB)\n",
      "     ---------------------------------------- 2.3/2.3 MB 1.4 MB/s eta 0:00:00\n",
      "Collecting comm>=0.1.3\n",
      "  Downloading comm-0.2.1-py3-none-any.whl (7.2 kB)\n",
      "Requirement already satisfied: ipython>=6.1.0 in c:\\users\\apollo gadget\\anaconda3\\lib\\site-packages (from ipywidgets>=8->nglview) (8.10.0)\n",
      "Collecting jupyterlab<5,>=4.0.2\n",
      "  Downloading jupyterlab-4.0.11-py3-none-any.whl (9.2 MB)\n",
      "     ---------------------------------------- 9.2/9.2 MB 1.2 MB/s eta 0:00:00\n",
      "Collecting tornado>=6.2.0\n",
      "  Downloading tornado-6.4-cp38-abi3-win_amd64.whl (436 kB)\n",
      "     ------------------------------------ 437.0/437.0 kB 650.5 kB/s eta 0:00:00\n",
      "Collecting jupyter-server<3,>=2.4.0\n",
      "  Downloading jupyter_server-2.12.5-py3-none-any.whl (380 kB)\n",
      "     ------------------------------------ 380.3/380.3 kB 697.0 kB/s eta 0:00:00\n",
      "Requirement already satisfied: notebook-shim<0.3,>=0.2 in c:\\users\\apollo gadget\\anaconda3\\lib\\site-packages (from notebook>=7->nglview) (0.2.2)\n",
      "Collecting jupyterlab-server<3,>=2.22.1\n",
      "  Downloading jupyterlab_server-2.25.2-py3-none-any.whl (58 kB)\n",
      "     -------------------------------------- 58.9/58.9 kB 772.7 kB/s eta 0:00:00\n",
      "Requirement already satisfied: matplotlib-inline in c:\\users\\apollo gadget\\anaconda3\\lib\\site-packages (from ipython>=6.1.0->ipywidgets>=8->nglview) (0.1.6)\n",
      "Requirement already satisfied: pygments>=2.4.0 in c:\\users\\apollo gadget\\anaconda3\\lib\\site-packages (from ipython>=6.1.0->ipywidgets>=8->nglview) (2.11.2)\n",
      "Requirement already satisfied: prompt-toolkit<3.1.0,>=3.0.30 in c:\\users\\apollo gadget\\anaconda3\\lib\\site-packages (from ipython>=6.1.0->ipywidgets>=8->nglview) (3.0.36)\n",
      "Requirement already satisfied: colorama in c:\\users\\apollo gadget\\anaconda3\\lib\\site-packages (from ipython>=6.1.0->ipywidgets>=8->nglview) (0.4.6)\n",
      "Requirement already satisfied: jedi>=0.16 in c:\\users\\apollo gadget\\anaconda3\\lib\\site-packages (from ipython>=6.1.0->ipywidgets>=8->nglview) (0.18.1)\n",
      "Requirement already satisfied: backcall in c:\\users\\apollo gadget\\anaconda3\\lib\\site-packages (from ipython>=6.1.0->ipywidgets>=8->nglview) (0.2.0)\n",
      "Requirement already satisfied: decorator in c:\\users\\apollo gadget\\anaconda3\\lib\\site-packages (from ipython>=6.1.0->ipywidgets>=8->nglview) (5.1.1)\n",
      "Requirement already satisfied: pickleshare in c:\\users\\apollo gadget\\anaconda3\\lib\\site-packages (from ipython>=6.1.0->ipywidgets>=8->nglview) (0.7.5)\n",
      "Requirement already satisfied: stack-data in c:\\users\\apollo gadget\\anaconda3\\lib\\site-packages (from ipython>=6.1.0->ipywidgets>=8->nglview) (0.2.0)\n",
      "Collecting overrides\n",
      "  Downloading overrides-7.5.0-py3-none-any.whl (17 kB)\n",
      "Requirement already satisfied: packaging in c:\\users\\apollo gadget\\anaconda3\\lib\\site-packages (from jupyter-server<3,>=2.4.0->notebook>=7->nglview) (22.0)\n",
      "Collecting jupyter-server-terminals\n",
      "  Downloading jupyter_server_terminals-0.5.1-py3-none-any.whl (13 kB)\n",
      "Requirement already satisfied: terminado>=0.8.3 in c:\\users\\apollo gadget\\anaconda3\\lib\\site-packages (from jupyter-server<3,>=2.4.0->notebook>=7->nglview) (0.17.1)\n",
      "Collecting jupyter-client>=7.4.4\n",
      "  Downloading jupyter_client-8.6.0-py3-none-any.whl (105 kB)\n",
      "     ------------------------------------ 105.9/105.9 kB 765.1 kB/s eta 0:00:00\n",
      "Requirement already satisfied: argon2-cffi in c:\\users\\apollo gadget\\anaconda3\\lib\\site-packages (from jupyter-server<3,>=2.4.0->notebook>=7->nglview) (21.3.0)\n",
      "Requirement already satisfied: jinja2 in c:\\users\\apollo gadget\\anaconda3\\lib\\site-packages (from jupyter-server<3,>=2.4.0->notebook>=7->nglview) (3.1.2)\n",
      "Requirement already satisfied: nbconvert>=6.4.4 in c:\\users\\apollo gadget\\anaconda3\\lib\\site-packages (from jupyter-server<3,>=2.4.0->notebook>=7->nglview) (6.5.4)\n",
      "Requirement already satisfied: jupyter-core!=5.0.*,>=4.12 in c:\\users\\apollo gadget\\anaconda3\\lib\\site-packages (from jupyter-server<3,>=2.4.0->notebook>=7->nglview) (5.2.0)\n",
      "Collecting pyzmq>=24\n",
      "  Downloading pyzmq-25.1.2-cp310-cp310-win_amd64.whl (1.2 MB)\n",
      "     ---------------------------------------- 1.2/1.2 MB 782.1 kB/s eta 0:00:00\n",
      "Requirement already satisfied: anyio>=3.1.0 in c:\\users\\apollo gadget\\anaconda3\\lib\\site-packages (from jupyter-server<3,>=2.4.0->notebook>=7->nglview) (3.5.0)\n",
      "Requirement already satisfied: prometheus-client in c:\\users\\apollo gadget\\anaconda3\\lib\\site-packages (from jupyter-server<3,>=2.4.0->notebook>=7->nglview) (0.14.1)\n",
      "Collecting jupyter-events>=0.9.0\n",
      "  Downloading jupyter_events-0.9.0-py3-none-any.whl (18 kB)\n",
      "Requirement already satisfied: pywinpty in c:\\users\\apollo gadget\\anaconda3\\lib\\site-packages (from jupyter-server<3,>=2.4.0->notebook>=7->nglview) (2.0.10)\n",
      "Collecting send2trash>=1.8.2\n",
      "  Downloading Send2Trash-1.8.2-py3-none-any.whl (18 kB)\n",
      "Requirement already satisfied: websocket-client in c:\\users\\apollo gadget\\anaconda3\\lib\\site-packages (from jupyter-server<3,>=2.4.0->notebook>=7->nglview) (0.58.0)\n",
      "Requirement already satisfied: nbformat>=5.3.0 in c:\\users\\apollo gadget\\anaconda3\\lib\\site-packages (from jupyter-server<3,>=2.4.0->notebook>=7->nglview) (5.7.0)\n",
      "Requirement already satisfied: ipykernel in c:\\users\\apollo gadget\\anaconda3\\lib\\site-packages (from jupyterlab<5,>=4.0.2->notebook>=7->nglview) (6.19.2)\n",
      "Collecting async-lru>=1.0.0\n",
      "  Downloading async_lru-2.0.4-py3-none-any.whl (6.1 kB)\n",
      "Requirement already satisfied: tomli in c:\\users\\apollo gadget\\anaconda3\\lib\\site-packages (from jupyterlab<5,>=4.0.2->notebook>=7->nglview) (2.0.1)\n",
      "Collecting jupyter-lsp>=2.0.0\n",
      "  Downloading jupyter_lsp-2.2.2-py3-none-any.whl (68 kB)\n",
      "     -------------------------------------- 68.8/68.8 kB 929.2 kB/s eta 0:00:00\n",
      "Collecting requests>=2.31\n",
      "  Downloading requests-2.31.0-py3-none-any.whl (62 kB)\n",
      "     -------------------------------------- 62.6/62.6 kB 830.7 kB/s eta 0:00:00\n",
      "Collecting jsonschema>=4.18.0\n",
      "  Downloading jsonschema-4.21.1-py3-none-any.whl (85 kB)\n",
      "     -------------------------------------- 85.5/85.5 kB 690.7 kB/s eta 0:00:00\n",
      "Requirement already satisfied: json5>=0.9.0 in c:\\users\\apollo gadget\\anaconda3\\lib\\site-packages (from jupyterlab-server<3,>=2.22.1->notebook>=7->nglview) (0.9.6)\n",
      "Requirement already satisfied: babel>=2.10 in c:\\users\\apollo gadget\\anaconda3\\lib\\site-packages (from jupyterlab-server<3,>=2.22.1->notebook>=7->nglview) (2.11.0)\n",
      "Requirement already satisfied: idna>=2.8 in c:\\users\\apollo gadget\\anaconda3\\lib\\site-packages (from anyio>=3.1.0->jupyter-server<3,>=2.4.0->notebook>=7->nglview) (3.4)\n",
      "Requirement already satisfied: sniffio>=1.1 in c:\\users\\apollo gadget\\anaconda3\\lib\\site-packages (from anyio>=3.1.0->jupyter-server<3,>=2.4.0->notebook>=7->nglview) (1.2.0)\n",
      "Requirement already satisfied: typing-extensions>=4.0.0 in c:\\users\\apollo gadget\\anaconda3\\lib\\site-packages (from async-lru>=1.0.0->jupyterlab<5,>=4.0.2->notebook>=7->nglview) (4.4.0)\n",
      "Requirement already satisfied: pytz>=2015.7 in c:\\users\\apollo gadget\\anaconda3\\lib\\site-packages (from babel>=2.10->jupyterlab-server<3,>=2.22.1->notebook>=7->nglview) (2022.7)\n",
      "Requirement already satisfied: parso<0.9.0,>=0.8.0 in c:\\users\\apollo gadget\\anaconda3\\lib\\site-packages (from jedi>=0.16->ipython>=6.1.0->ipywidgets>=8->nglview) (0.8.3)\n",
      "Requirement already satisfied: MarkupSafe>=2.0 in c:\\users\\apollo gadget\\anaconda3\\lib\\site-packages (from jinja2->jupyter-server<3,>=2.4.0->notebook>=7->nglview) (2.1.1)\n",
      "Collecting attrs>=22.2.0\n",
      "  Downloading attrs-23.2.0-py3-none-any.whl (60 kB)\n",
      "     ---------------------------------------- 60.8/60.8 kB 1.6 MB/s eta 0:00:00\n",
      "Collecting rpds-py>=0.7.1\n",
      "  Downloading rpds_py-0.17.1-cp310-none-win_amd64.whl (205 kB)\n",
      "     ------------------------------------ 205.9/205.9 kB 893.4 kB/s eta 0:00:00\n",
      "Collecting jsonschema-specifications>=2023.03.6\n",
      "  Downloading jsonschema_specifications-2023.12.1-py3-none-any.whl (18 kB)\n",
      "Collecting referencing>=0.28.4\n",
      "  Downloading referencing-0.32.1-py3-none-any.whl (26 kB)\n",
      "Requirement already satisfied: python-dateutil>=2.8.2 in c:\\users\\apollo gadget\\anaconda3\\lib\\site-packages (from jupyter-client>=7.4.4->jupyter-server<3,>=2.4.0->notebook>=7->nglview) (2.8.2)\n",
      "Requirement already satisfied: pywin32>=1.0 in c:\\users\\apollo gadget\\anaconda3\\lib\\site-packages (from jupyter-core!=5.0.*,>=4.12->jupyter-server<3,>=2.4.0->notebook>=7->nglview) (305.1)\n",
      "Requirement already satisfied: platformdirs>=2.5 in c:\\users\\apollo gadget\\anaconda3\\lib\\site-packages (from jupyter-core!=5.0.*,>=4.12->jupyter-server<3,>=2.4.0->notebook>=7->nglview) (2.5.2)\n",
      "Requirement already satisfied: pyyaml>=5.3 in c:\\users\\apollo gadget\\anaconda3\\lib\\site-packages (from jupyter-events>=0.9.0->jupyter-server<3,>=2.4.0->notebook>=7->nglview) (6.0)\n",
      "Collecting python-json-logger>=2.0.4\n",
      "  Downloading python_json_logger-2.0.7-py3-none-any.whl (8.1 kB)\n",
      "Collecting rfc3339-validator\n",
      "  Downloading rfc3339_validator-0.1.4-py2.py3-none-any.whl (3.5 kB)\n",
      "Collecting rfc3986-validator>=0.1.1\n",
      "  Downloading rfc3986_validator-0.1.1-py2.py3-none-any.whl (4.2 kB)\n",
      "Requirement already satisfied: beautifulsoup4 in c:\\users\\apollo gadget\\anaconda3\\lib\\site-packages (from nbconvert>=6.4.4->jupyter-server<3,>=2.4.0->notebook>=7->nglview) (4.11.1)\n",
      "Requirement already satisfied: bleach in c:\\users\\apollo gadget\\anaconda3\\lib\\site-packages (from nbconvert>=6.4.4->jupyter-server<3,>=2.4.0->notebook>=7->nglview) (4.1.0)\n",
      "Requirement already satisfied: defusedxml in c:\\users\\apollo gadget\\anaconda3\\lib\\site-packages (from nbconvert>=6.4.4->jupyter-server<3,>=2.4.0->notebook>=7->nglview) (0.7.1)\n",
      "Requirement already satisfied: tinycss2 in c:\\users\\apollo gadget\\anaconda3\\lib\\site-packages (from nbconvert>=6.4.4->jupyter-server<3,>=2.4.0->notebook>=7->nglview) (1.2.1)\n",
      "Requirement already satisfied: mistune<2,>=0.8.1 in c:\\users\\apollo gadget\\anaconda3\\lib\\site-packages (from nbconvert>=6.4.4->jupyter-server<3,>=2.4.0->notebook>=7->nglview) (0.8.4)\n",
      "Requirement already satisfied: pandocfilters>=1.4.1 in c:\\users\\apollo gadget\\anaconda3\\lib\\site-packages (from nbconvert>=6.4.4->jupyter-server<3,>=2.4.0->notebook>=7->nglview) (1.5.0)\n",
      "Requirement already satisfied: jupyterlab-pygments in c:\\users\\apollo gadget\\anaconda3\\lib\\site-packages (from nbconvert>=6.4.4->jupyter-server<3,>=2.4.0->notebook>=7->nglview) (0.1.2)\n",
      "Requirement already satisfied: nbclient>=0.5.0 in c:\\users\\apollo gadget\\anaconda3\\lib\\site-packages (from nbconvert>=6.4.4->jupyter-server<3,>=2.4.0->notebook>=7->nglview) (0.5.13)\n",
      "Requirement already satisfied: entrypoints>=0.2.2 in c:\\users\\apollo gadget\\anaconda3\\lib\\site-packages (from nbconvert>=6.4.4->jupyter-server<3,>=2.4.0->notebook>=7->nglview) (0.4)\n",
      "Requirement already satisfied: lxml in c:\\users\\apollo gadget\\anaconda3\\lib\\site-packages (from nbconvert>=6.4.4->jupyter-server<3,>=2.4.0->notebook>=7->nglview) (4.9.1)\n",
      "Requirement already satisfied: fastjsonschema in c:\\users\\apollo gadget\\anaconda3\\lib\\site-packages (from nbformat>=5.3.0->jupyter-server<3,>=2.4.0->notebook>=7->nglview) (2.16.2)\n",
      "Requirement already satisfied: wcwidth in c:\\users\\apollo gadget\\anaconda3\\lib\\site-packages (from prompt-toolkit<3.1.0,>=3.0.30->ipython>=6.1.0->ipywidgets>=8->nglview) (0.2.5)\n",
      "Requirement already satisfied: certifi>=2017.4.17 in c:\\users\\apollo gadget\\anaconda3\\lib\\site-packages (from requests>=2.31->jupyterlab-server<3,>=2.22.1->notebook>=7->nglview) (2022.12.7)\n",
      "Requirement already satisfied: charset-normalizer<4,>=2 in c:\\users\\apollo gadget\\anaconda3\\lib\\site-packages (from requests>=2.31->jupyterlab-server<3,>=2.22.1->notebook>=7->nglview) (2.0.4)\n",
      "Requirement already satisfied: urllib3<3,>=1.21.1 in c:\\users\\apollo gadget\\anaconda3\\lib\\site-packages (from requests>=2.31->jupyterlab-server<3,>=2.22.1->notebook>=7->nglview) (1.26.14)\n",
      "Requirement already satisfied: argon2-cffi-bindings in c:\\users\\apollo gadget\\anaconda3\\lib\\site-packages (from argon2-cffi->jupyter-server<3,>=2.4.0->notebook>=7->nglview) (21.2.0)\n",
      "Requirement already satisfied: nest-asyncio in c:\\users\\apollo gadget\\anaconda3\\lib\\site-packages (from ipykernel->jupyterlab<5,>=4.0.2->notebook>=7->nglview) (1.5.6)\n",
      "Requirement already satisfied: psutil in c:\\users\\apollo gadget\\anaconda3\\lib\\site-packages (from ipykernel->jupyterlab<5,>=4.0.2->notebook>=7->nglview) (5.9.0)\n",
      "Requirement already satisfied: debugpy>=1.0 in c:\\users\\apollo gadget\\anaconda3\\lib\\site-packages (from ipykernel->jupyterlab<5,>=4.0.2->notebook>=7->nglview) (1.5.1)\n",
      "Requirement already satisfied: asttokens in c:\\users\\apollo gadget\\anaconda3\\lib\\site-packages (from stack-data->ipython>=6.1.0->ipywidgets>=8->nglview) (2.0.5)\n",
      "Requirement already satisfied: pure-eval in c:\\users\\apollo gadget\\anaconda3\\lib\\site-packages (from stack-data->ipython>=6.1.0->ipywidgets>=8->nglview) (0.2.2)\n",
      "Requirement already satisfied: executing in c:\\users\\apollo gadget\\anaconda3\\lib\\site-packages (from stack-data->ipython>=6.1.0->ipywidgets>=8->nglview) (0.8.3)\n",
      "Requirement already satisfied: six in c:\\users\\apollo gadget\\anaconda3\\lib\\site-packages (from websocket-client->jupyter-server<3,>=2.4.0->notebook>=7->nglview) (1.16.0)\n",
      "Collecting uri-template\n",
      "  Downloading uri_template-1.3.0-py3-none-any.whl (11 kB)\n",
      "Collecting webcolors>=1.11\n",
      "  Downloading webcolors-1.13-py3-none-any.whl (14 kB)\n",
      "Collecting fqdn\n",
      "  Downloading fqdn-1.5.1-py3-none-any.whl (9.1 kB)\n",
      "Requirement already satisfied: jsonpointer>1.13 in c:\\users\\apollo gadget\\anaconda3\\lib\\site-packages (from jsonschema>=4.18.0->jupyterlab-server<3,>=2.22.1->notebook>=7->nglview) (2.1)\n",
      "Collecting isoduration\n",
      "  Downloading isoduration-20.11.0-py3-none-any.whl (11 kB)\n",
      "Requirement already satisfied: cffi>=1.0.1 in c:\\users\\apollo gadget\\anaconda3\\lib\\site-packages (from argon2-cffi-bindings->argon2-cffi->jupyter-server<3,>=2.4.0->notebook>=7->nglview) (1.15.1)\n",
      "Requirement already satisfied: soupsieve>1.2 in c:\\users\\apollo gadget\\anaconda3\\lib\\site-packages (from beautifulsoup4->nbconvert>=6.4.4->jupyter-server<3,>=2.4.0->notebook>=7->nglview) (2.3.2.post1)\n",
      "Requirement already satisfied: webencodings in c:\\users\\apollo gadget\\anaconda3\\lib\\site-packages (from bleach->nbconvert>=6.4.4->jupyter-server<3,>=2.4.0->notebook>=7->nglview) (0.5.1)\n",
      "Requirement already satisfied: pycparser in c:\\users\\apollo gadget\\anaconda3\\lib\\site-packages (from cffi>=1.0.1->argon2-cffi-bindings->argon2-cffi->jupyter-server<3,>=2.4.0->notebook>=7->nglview) (2.21)\n",
      "Requirement already satisfied: arrow>=0.15.0 in c:\\users\\apollo gadget\\anaconda3\\lib\\site-packages (from isoduration->jsonschema>=4.18.0->jupyterlab-server<3,>=2.22.1->notebook>=7->nglview) (1.2.3)\n",
      "Building wheels for collected packages: nglview\n",
      "  Building wheel for nglview (pyproject.toml): started\n",
      "  Building wheel for nglview (pyproject.toml): finished with status 'done'\n",
      "  Created wheel for nglview: filename=nglview-3.1.1-py3-none-any.whl size=7493254 sha256=6e90cb625f02d533295c6577c23cf48605bcff39a88a0128ce07f61d5815b0f2\n",
      "  Stored in directory: c:\\users\\apollo gadget\\appdata\\local\\pip\\cache\\wheels\\cf\\d6\\dd\\d2082a5547fab334eb858664f0cbcea6b2ab04830e86dc3140\n",
      "Successfully built nglview\n",
      "Installing collected packages: widgetsnbextension, webcolors, uri-template, tornado, send2trash, rpds-py, rfc3986-validator, rfc3339-validator, requests, pyzmq, python-json-logger, overrides, jupyterlab-widgets, fqdn, comm, attrs, async-lru, referencing, jupyter-client, jupyter-server-terminals, jsonschema-specifications, isoduration, jsonschema, ipywidgets, jupyter-events, jupyter-server, jupyterlab-server, jupyter-lsp, jupyterlab, notebook, nglview\n",
      "  Attempting uninstall: widgetsnbextension\n",
      "    Found existing installation: widgetsnbextension 3.5.2\n",
      "    Uninstalling widgetsnbextension-3.5.2:\n",
      "      Successfully uninstalled widgetsnbextension-3.5.2\n",
      "  Attempting uninstall: tornado\n",
      "    Found existing installation: tornado 6.1\n",
      "    Uninstalling tornado-6.1:\n",
      "      Successfully uninstalled tornado-6.1\n",
      "Note: you may need to restart the kernel to use updated packages.\n"
     ]
    },
    {
     "name": "stderr",
     "output_type": "stream",
     "text": [
      "ERROR: Could not install packages due to an OSError: [WinError 5] Access is denied: 'C:\\\\Users\\\\Apollo Gadget\\\\anaconda3\\\\Lib\\\\site-packages\\\\~ornado\\\\speedups.cp310-win_amd64.pyd'\n",
      "Consider using the `--user` option or check the permissions.\n",
      "\n"
     ]
    }
   ],
   "source": [
    "pip install nglview"
   ]
  },
  {
   "cell_type": "code",
   "execution_count": 21,
   "id": "8106866e",
   "metadata": {},
   "outputs": [
    {
     "ename": "SyntaxError",
     "evalue": "invalid syntax (1271373878.py, line 1)",
     "output_type": "error",
     "traceback": [
      "\u001b[1;36m  Cell \u001b[1;32mIn[21], line 1\u001b[1;36m\u001b[0m\n\u001b[1;33m    pip install nglview\u001b[0m\n\u001b[1;37m        ^\u001b[0m\n\u001b[1;31mSyntaxError\u001b[0m\u001b[1;31m:\u001b[0m invalid syntax\n"
     ]
    }
   ],
   "source": [
    "pip install nglview\n",
    "jupyter nbextension enable nglview --py --sys-prefix\n",
    "jupyter nbextension enable widgetsnbextension --py --sys-prefix"
   ]
  },
  {
   "cell_type": "code",
   "execution_count": null,
   "id": "1ea72a83",
   "metadata": {},
   "outputs": [],
   "source": [
    "import nglview as nv"
   ]
  },
  {
   "cell_type": "code",
   "execution_count": null,
   "id": "0f90f144",
   "metadata": {},
   "outputs": [],
   "source": []
  }
 ],
 "metadata": {
  "kernelspec": {
   "display_name": "Python 3 (ipykernel)",
   "language": "python",
   "name": "python3"
  },
  "language_info": {
   "codemirror_mode": {
    "name": "ipython",
    "version": 3
   },
   "file_extension": ".py",
   "mimetype": "text/x-python",
   "name": "python",
   "nbconvert_exporter": "python",
   "pygments_lexer": "ipython3",
   "version": "3.10.9"
  }
 },
 "nbformat": 4,
 "nbformat_minor": 5
}
